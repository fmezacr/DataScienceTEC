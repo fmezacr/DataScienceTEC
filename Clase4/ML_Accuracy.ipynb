{
  "nbformat": 4,
  "nbformat_minor": 0,
  "metadata": {
    "colab": {
      "name": "ML Accuracy.ipynb",
      "provenance": [],
      "collapsed_sections": []
    },
    "kernelspec": {
      "name": "python3",
      "display_name": "Python 3"
    },
    "language_info": {
      "name": "python"
    }
  },
  "cells": [
    {
      "cell_type": "markdown",
      "source": [
        "### Ejemplo de Curva de Accuracy Training y Testing "
      ],
      "metadata": {
        "id": "hrRqWDs_GVIq"
      }
    },
    {
      "cell_type": "markdown",
      "source": [
        "- Con scikit-learn es posible cargar set de datos, para una revisión detallada de cuales sets favor revisar: http://scikit-learn.org/stable/datasets/index.html#toy-datasets\n",
        "\n",
        "- Procedemos a cargar las librerias correspondientes, train_test_split ya lo conocemos de la práctica anterior. La novedad acá es KNeighborsClassifier que corresponde al clasificador kNN y el llamado del dataset load_breast_cancer:"
      ],
      "metadata": {
        "id": "GtxH0CuVGco3"
      }
    },
    {
      "cell_type": "code",
      "execution_count": 4,
      "metadata": {
        "id": "Po8fB1gTDSyX"
      },
      "outputs": [],
      "source": [
        "from sklearn.datasets import load_breast_cancer\n",
        "from sklearn.model_selection import train_test_split\n",
        "from sklearn.neighbors import KNeighborsClassifier"
      ]
    },
    {
      "cell_type": "markdown",
      "source": [
        "Se carga ahora el set de datos load_breast_cancer:"
      ],
      "metadata": {
        "id": "rJBedImMG49e"
      }
    },
    {
      "cell_type": "code",
      "source": [
        "cancer = load_breast_cancer()\n",
        "\n",
        "X_train, X_test, y_train, y_test = train_test_split(cancer.data, cancer.target, test_size=0.2, random_state=42) \n",
        "\n",
        "# notar que se indica un 20% para el testing data"
      ],
      "metadata": {
        "id": "38xoPFG0DcFp"
      },
      "execution_count": 5,
      "outputs": []
    },
    {
      "cell_type": "markdown",
      "source": [
        "Inicializamos las listas:"
      ],
      "metadata": {
        "id": "qOjC0eBMHCmP"
      }
    },
    {
      "cell_type": "code",
      "source": [
        "training_accuracy = []\n",
        "test_accuracy = []"
      ],
      "metadata": {
        "id": "ds66n8slEcVH"
      },
      "execution_count": 6,
      "outputs": []
    },
    {
      "cell_type": "markdown",
      "source": [
        "Creamos la curva de \"training/test acurracy vrs. k\", para más detalle del parámetro score refererirse a la documentación en: http://scikit-learn.org/stable/modules/generated/sklearn.neighbors.KNeighborsClassifier.html\n",
        "\n",
        "NOTA: La rutina descrita a continuación, se puede usar para diferentes rangos y diferentes hiper-parámetros, en algunos casos dependiendo de los aspectos anteriores el tiempo de ejecución puede tomar más tiempo dependiendo del poder computacional disponible."
      ],
      "metadata": {
        "id": "kBH9T8gkHIC0"
      }
    },
    {
      "cell_type": "code",
      "source": [
        "import matplotlib.pyplot as plt\n",
        "plt.style.use('ggplot')\n",
        "%matplotlib inline\n",
        "\n",
        "neighbors_settings = range(1, 12)\n",
        "for n_neighbors in neighbors_settings:\n",
        "    # se construye el modelo de clasificacion\n",
        "    clf = KNeighborsClassifier(n_neighbors=n_neighbors)\n",
        "    clf.fit(X_train, y_train)\n",
        "    # se almacena el \"training set accuracy\"\n",
        "    training_accuracy.append(clf.score(X_train, y_train))\n",
        "    # se almacena la \"generalization accuracy\"\n",
        "    test_accuracy.append(clf.score(X_test, y_test))\n",
        "plt.plot(neighbors_settings, training_accuracy, label=\"training accuracy\")\n",
        "plt.plot(neighbors_settings, test_accuracy, label=\"test accuracy\")\n",
        "plt.ylabel(\"Accuracy\")\n",
        "plt.xlabel(\"n_neighbors\")\n",
        "plt.legend()"
      ],
      "metadata": {
        "colab": {
          "base_uri": "https://localhost:8080/",
          "height": 299
        },
        "id": "f5KWevNbF8pa",
        "outputId": "2f1bb161-648f-4eb6-d5d7-a1afe850cc6c"
      },
      "execution_count": 7,
      "outputs": [
        {
          "output_type": "execute_result",
          "data": {
            "text/plain": [
              "<matplotlib.legend.Legend at 0x7f1e98946e50>"
            ]
          },
          "metadata": {},
          "execution_count": 7
        },
        {
          "output_type": "display_data",
          "data": {
            "text/plain": [
              "<Figure size 432x288 with 1 Axes>"
            ],
            "image/png": "[encoded data removed]"
          },
          "metadata": {
            "needs_background": "light"
          }
        }
      ]
    }
  ]
}